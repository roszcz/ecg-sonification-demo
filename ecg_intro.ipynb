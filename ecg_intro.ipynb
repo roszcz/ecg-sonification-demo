{
  "nbformat": 4,
  "nbformat_minor": 0,
  "metadata": {
    "colab": {
      "name": "ecg-intro.ipynb",
      "provenance": [],
      "collapsed_sections": [
        "8GtznnwGYa6L"
      ],
      "toc_visible": true,
      "authorship_tag": "ABX9TyNH5h6FBdMBWeFSCpnOV8kk",
      "include_colab_link": true
    },
    "kernelspec": {
      "name": "python3",
      "display_name": "Python 3"
    },
    "language_info": {
      "name": "python"
    }
  },
  "cells": [
    {
      "cell_type": "markdown",
      "metadata": {
        "id": "view-in-github",
        "colab_type": "text"
      },
      "source": [
        "<a href=\"https://colab.research.google.com/github/roszcz/ecg-sonification-demo/blob/master/ecg_intro.ipynb\" target=\"_parent\"><img src=\"https://colab.research.google.com/assets/colab-badge.svg\" alt=\"Open In Colab\"/></a>"
      ]
    },
    {
      "cell_type": "markdown",
      "metadata": {
        "id": "cH_KfpX-Sk3w"
      },
      "source": [
        "# ECG Sonification Demo"
      ]
    },
    {
      "cell_type": "markdown",
      "metadata": {
        "id": "uEneA2lCTQQ0"
      },
      "source": [
        "## Dependencies\n",
        "\n",
        "Download a data sample from the Physionet Database and install packages for ECG signal handling and MIDI processing."
      ]
    },
    {
      "cell_type": "code",
      "metadata": {
        "id": "h1g-8sffOuD-"
      },
      "source": [
        "!mkdir ecg-data\n",
        "!wget https://physionet.org/files/ltafdb/1.0.0/23.dat -P ecg-data/\n",
        "!wget https://physionet.org/files/ltafdb/1.0.0/23.hea -P ecg-data/\n",
        "!wget https://physionet.org/files/ltafdb/1.0.0/23.atr -P ecg-data/"
      ],
      "execution_count": null,
      "outputs": []
    },
    {
      "cell_type": "code",
      "metadata": {
        "id": "lwE-VGuBfdBr"
      },
      "source": [
        "# Download the MIDI sound font\n",
        "!wget https://cdn.filestackcontent.com/security=p:eyJjYWxsIjogWyJyZWFkIl0sICJleHBpcnkiOiAyNTI5NDgwMDI0MDAsICJoYW5kbGUiOiAiaG9ITW1tZ05UVzJkTk90QjBKREYifQ==,s:6d09c919f9ddd5f4cdc8166bc04001e9428b215c03e017641a825549b6c40150/hoHMmmgNTW2dNOtB0JDF -O GeneralUser_GS_v1.471.sf2"
      ],
      "execution_count": null,
      "outputs": []
    },
    {
      "cell_type": "code",
      "metadata": {
        "id": "oa4ymetXO_A2"
      },
      "source": [
        "!pip install pretty-midi==0.2.9 midi2audio==0.1.1 wfdb==3.4.0 tqdm"
      ],
      "execution_count": null,
      "outputs": []
    },
    {
      "cell_type": "code",
      "metadata": {
        "id": "MBvVadCZnpH1"
      },
      "source": [
        "!apt-get install fluidsynth"
      ],
      "execution_count": null,
      "outputs": []
    },
    {
      "cell_type": "code",
      "metadata": {
        "id": "s1nwE6OxQKAc"
      },
      "source": [
        "# Initialize the MIDI synth\n",
        "import pretty_midi\n",
        "from midi2audio import FluidSynth\n",
        "synth = FluidSynth(sound_font='GeneralUser_GS_v1.471.sf2')"
      ],
      "execution_count": null,
      "outputs": []
    },
    {
      "cell_type": "markdown",
      "metadata": {
        "id": "8GtznnwGYa6L"
      },
      "source": [
        "## Load data\n",
        "\n",
        "Read the ECG signal as `numpy.array` and annotations as `pandas.DataFrame`\n"
      ]
    },
    {
      "cell_type": "code",
      "metadata": {
        "id": "SaNwUvvEPE5b"
      },
      "source": [
        "import wfdb\n",
        "import numpy as np\n",
        "import pandas as pd\n",
        "\n",
        "record_path = 'ecg-data/23'\n",
        "ann = wfdb.rdann(record_path, 'atr')\n",
        "signals, fields = wfdb.rdsamp(record_path)\n",
        "\n",
        "# `symbol` is the label class, `sample` is the index for the signals array\n",
        "df = pd.DataFrame({'symbol': ann.symbol, 'aux': ann.aux_note, 'position': ann.sample})\n",
        "\n",
        "fs = fields['fs']\n",
        "print('ECG signal size:', signals.shape)\n",
        "print('ECG sampling rate:', fs, '[Hz]')\n",
        "print('Labels distribution:', df.symbol.value_counts())"
      ],
      "execution_count": null,
      "outputs": []
    },
    {
      "cell_type": "code",
      "metadata": {
        "id": "4-HFQMh_Pmpx"
      },
      "source": [
        "from matplotlib import pyplot as plt\n",
        "\n",
        "# Representative sample of the raw signal ...\n",
        "start = 7190174\n",
        "end = 7190618\n",
        "signal_part  = signals[start: end, 0]\n",
        "\n",
        "plt.figure(figsize=[15, 4])\n",
        "plt.plot(signal_part, color='dimgray')\n",
        "\n",
        "# ... and corresponding annotations\n",
        "ids = (df.position > start) & (df.position < end)\n",
        "df_part = df[ids]\n",
        "\n",
        "# Shift positions of the sample beats to match the signal fragment\n",
        "annotation_xs = df_part.position - start\n",
        "annotation_ys = np.ones_like(annotation_xs) * 2.1\n",
        "plt.plot(annotation_xs, annotation_ys, 'o', color='teal', ms=10)\n",
        "plt.grid()\n",
        "plt.xlabel('Sample index')\n",
        "plt.ylabel('ECG [mV]')\n",
        "plt.title('ECG sample')\n",
        "plt.xlim(0, len(signal_part))\n",
        "plt.ylim(signal_part.min(), signal_part.max() + 1.666)\n",
        "plt.show()"
      ],
      "execution_count": null,
      "outputs": []
    },
    {
      "cell_type": "markdown",
      "metadata": {
        "id": "PoedePg2TiQi"
      },
      "source": [
        "## Simple Sonification Sample\n",
        "\n",
        "Create a basic sonification out of a short fragment of ECG signal"
      ]
    },
    {
      "cell_type": "code",
      "metadata": {
        "id": "3lRMSJLITjzM"
      },
      "source": [
        "# Take a copy of 12 QRS section from the middle of the signal\n",
        "part = df[1000:1012].reset_index()\n",
        "\n",
        "# Get the raw ECG signal, offset to start before the R wave\n",
        "signal_start = part.position.min() - 50\n",
        "signal_end = part.position.max()\n",
        "signal_part = signals[signal_start: signal_end, 0]\n",
        "times = np.arange(0, len(signal_part)) / fs\n",
        "\n",
        "# `position` is sample index - let's change it to time, starting at zero\n",
        "part['start_time'] = (part.position - signal_start) / fs\n",
        "\n",
        "# Release each note when the next one starts\n",
        "part['end_time'] = part.start_time.shift(-1)\n",
        "part.loc[part.index[-1], 'end_time'] = 10\n",
        "\n",
        "plt.figure(figsize=[15, 4])\n",
        "plt.plot(times, signal_part, color='dimgray')\n",
        "plt.xlim(times[0], times[-1])\n",
        "\n",
        "qrs_y = np.ones(len(part)) * 2.1\n",
        "plt.plot(part.start_time, qrs_y, 'o', color='teal', ms=10)\n",
        "plt.grid()\n",
        "plt.xlabel('Time [s]')\n",
        "plt.ylabel('ECG [mV]')\n",
        "plt.ylim(signal_part.min(), signal_part.max() + 1.666)\n",
        "plt.title('ECG Fragment with R wave annotations');"
      ],
      "execution_count": null,
      "outputs": []
    },
    {
      "cell_type": "code",
      "metadata": {
        "id": "PBph-KWzjFIG"
      },
      "source": [
        "track = pretty_midi.PrettyMIDI()\n",
        "piano = pretty_midi.Instrument(program=0, name='piano')\n",
        "  \n",
        "for it, row in part.iterrows():\n",
        "    note = pretty_midi.Note(\n",
        "        velocity=90,\n",
        "        pitch=60 + it,\n",
        "        start=row.start_time,\n",
        "        end=row.end_time\n",
        "    )\n",
        "    piano.notes.append(note)\n",
        "track.instruments.append(piano)\n",
        "\n",
        "midi_path = 'track.mid'\n",
        "wav_path = 'track.wav'\n",
        "track.write(midi_path)\n",
        "synth.midi_to_audio(midi_path, wav_path)"
      ],
      "execution_count": null,
      "outputs": []
    },
    {
      "cell_type": "code",
      "metadata": {
        "id": "neMh4ap6mWHy"
      },
      "source": [
        "from IPython.display import Audio, display\n",
        "display(Audio(wav_path, autoplay=True))"
      ],
      "execution_count": null,
      "outputs": []
    },
    {
      "cell_type": "code",
      "metadata": {
        "id": "EA4ltMoJSFuE"
      },
      "source": [
        "!mkdir -p animation"
      ],
      "execution_count": null,
      "outputs": []
    },
    {
      "cell_type": "code",
      "metadata": {
        "id": "l6aMEzyDZGVD"
      },
      "source": [
        "from tqdm import tqdm\n",
        "\n",
        "duration = part.iloc[-1].end_time\n",
        "framerate = 30\n",
        "frame_count = int(framerate * duration)\n",
        "\n",
        "plt.figure(figsize=[12, 4])\n",
        "for frame_id in tqdm(range(frame_count)):\n",
        "    savepath = f'animation/{1000000 + frame_id}.png'\n",
        "    signal_idx = frame_id * fs / framerate\n",
        "    signal_end = round(signal_idx)\n",
        "    ids = part.start_time <= frame_id * framerate\n",
        "    visible_qrs = part[ids]\n",
        "    y = np.ones_like(visible_qrs) * 2.1\n",
        "    plt.plot(visible_qrs.start_time, y, 'o', color='teal', ms=10)\n",
        "    plt.plot(times[:signal_end], signal_part[:signal_end], color='dimgray')\n",
        "    plt.xlim(times[0], times[-1])\n",
        "    plt.grid()\n",
        "    plt.xlabel('Time [s]')\n",
        "    plt.ylabel('ECG [mV]')\n",
        "    plt.ylim(signal_part.min(), signal_part.max() + 1.666)\n",
        "    plt.tight_layout()\n",
        "    plt.savefig(savepath)\n",
        "    plt.clf()"
      ],
      "execution_count": null,
      "outputs": []
    },
    {
      "cell_type": "code",
      "metadata": {
        "id": "VNRR6dpPSQU7"
      },
      "source": [
        "%%capture\n",
        "command = \"\"\"\n",
        "    ffmpeg \n",
        "    -y -framerate 30 -f image2 -pattern_type glob -i 'animation/*png' -i \n",
        "    'track.wav' -map 0:v:0 -map 1:a:0 -c:v libx264 -r 30 -profile:v high -crf 20 -pix_fmt yuv420p colab.mp4\n",
        "\"\"\"\n",
        "!$command &> /dev/null"
      ],
      "execution_count": null,
      "outputs": []
    },
    {
      "cell_type": "code",
      "metadata": {
        "id": "bRT8UpJBSiPm"
      },
      "source": [
        "from IPython.display import HTML\n",
        "from base64 import b64encode\n",
        "\n",
        "mp4 = open('colab.mp4','rb').read()\n",
        "data_url = \"data:video/mp4;base64,\" + b64encode(mp4).decode()\n",
        "HTML(\"\"\"\n",
        "<video width=800 controls>\n",
        "      <source src=\"%s\" type=\"video/mp4\">\n",
        "</video>\n",
        "\"\"\" % data_url)"
      ],
      "execution_count": null,
      "outputs": []
    }
  ]
}